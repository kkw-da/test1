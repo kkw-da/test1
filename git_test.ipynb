{
 "cells": [
  {
   "cell_type": "code",
   "execution_count": 1,
   "id": "51cec229",
   "metadata": {},
   "outputs": [],
   "source": [
    "import pandas as pd\n",
    "import numpy as np"
   ]
  },
  {
   "cell_type": "code",
   "execution_count": null,
   "id": "79487f5e",
   "metadata": {},
   "outputs": [],
   "source": [
    "고객의 약관 동의를 얻어서 수집된 1~n번으로 분류되는 개인정보 n개가 있습니다.\n",
    "약관 종류는 여러 가지 있으며 각 약관마다 개인정보 보관 유효기간이 정해져 있습니다.\n",
    "당신은 각 개인정보가 어떤 약관으로 수집됐는지 알고 있습니다.\n",
    "수집된 개인정보는 유효기간 전까지만 보관 가능하며,\n",
    "유효기간이 지났다면 반드시 파기해야 합니다.\n",
    "\n",
    "예를 들어, A라는 약관의 유효기간이 12 달이고,\n",
    "2021년 1월 5일에 수집된 개인정보가 A약관으로 수집되었다면\n",
    "해당 개인정보는 2022년 1월 4일까지 보관 가능하며\n",
    "2022년 1월 5일부터 파기해야 할 개인정보입니다.\n",
    "당신은 오늘 날짜로 파기해야 할 개인정보 번호들을 구하려 합니다.\n",
    "\n",
    "(모든 달은 28일까지 있다고 가정합니다.)\n",
    "\n",
    "다음은 오늘 날짜가 2022.05.19일 때의 예시입니다."
   ]
  },
  {
   "attachments": {
    "image.png": {
     "image/png": "[encoded data removed]"
    }
   },
   "cell_type": "markdown",
   "id": "21f7657a",
   "metadata": {},
   "source": [
    "![image.png](attachment:image.png)"
   ]
  },
  {
   "cell_type": "code",
   "execution_count": null,
   "id": "c490efb8",
   "metadata": {},
   "outputs": [],
   "source": [
    "today\tterms\tprivacies\tresult\n",
    "\"2022.05.19\"\t[\"A 6\", \"B 12\", \"C 3\"]\t[\"2021.05.02 A\", \"2021.07.01 B\", \"2022.02.19 C\", \"2022.02.20 C\"]\t[1, 3]\n",
    "\"2020.01.01\"\t[\"Z 3\", \"D 5\"]\t[\"2019.01.01 D\", \"2019.11.15 Z\", \"2019.08.02 D\", \"2019.07.01 D\", \"2018.12.28 Z\"]\t[1, 4, 5]"
   ]
  },
  {
   "cell_type": "code",
   "execution_count": null,
   "id": "1ec193a7",
   "metadata": {},
   "outputs": [],
   "source": [
    "def solution(today, terms, privacies):\n",
    "    answer = []\n",
    "    return answer"
   ]
  },
  {
   "cell_type": "code",
   "execution_count": 2,
   "id": "b4f86a7b",
   "metadata": {},
   "outputs": [],
   "source": [
    "today = \"2022.05.19\"\n",
    "terms = [\"A 6\", \"B 12\", \"C 3\"]\n",
    "privacies = [\"2021.05.02 A\", \"2021.07.01 B\", \"2022.02.19 C\", \"2022.02.20 C\"]\n",
    "\n"
   ]
  },
  {
   "cell_type": "code",
   "execution_count": 18,
   "id": "de019017",
   "metadata": {},
   "outputs": [],
   "source": [
    "from datetime import datetime"
   ]
  },
  {
   "cell_type": "code",
   "execution_count": 50,
   "id": "f66b5839",
   "metadata": {},
   "outputs": [
    {
     "data": {
      "text/plain": [
       "20"
      ]
     },
     "execution_count": 50,
     "metadata": {},
     "output_type": "execute_result"
    }
   ],
   "source": [
    "\"2020.01.01\"\t[\"Z 3\", \"D 5\"]\t[\"2019.01.01 D\", \"2019.11.15 Z\", \"2019.08.02 D\", \"2019.07.01 D\", \"2018.12.28 Z\"]\t[1, 4, 5]"
   ]
  },
  {
   "cell_type": "code",
   "execution_count": 113,
   "id": "139f6c37",
   "metadata": {},
   "outputs": [
    {
     "name": "stdout",
     "output_type": "stream",
     "text": [
      "2019-11-15 00:00:00\n",
      "2018-12-28 00:00:00\n",
      "2019-01-01 00:00:00\n",
      "2019-08-02 00:00:00\n",
      "2019-07-01 00:00:00\n"
     ]
    },
    {
     "ename": "ValueError",
     "evalue": "month must be in 1..12",
     "output_type": "error",
     "traceback": [
      "\u001b[1;31m---------------------------------------------------------------------------\u001b[0m",
      "\u001b[1;31mValueError\u001b[0m                                Traceback (most recent call last)",
      "\u001b[1;32m<ipython-input-113-beda1c6ada8f>\u001b[0m in \u001b[0;36m<module>\u001b[1;34m\u001b[0m\n\u001b[1;32m----> 1\u001b[1;33m \u001b[0msolution\u001b[0m\u001b[1;33m(\u001b[0m\u001b[1;34m\"2020.01.01\"\u001b[0m\u001b[1;33m,\u001b[0m \u001b[1;33m[\u001b[0m\u001b[1;34m\"Z 3\"\u001b[0m\u001b[1;33m,\u001b[0m \u001b[1;34m\"D 5\"\u001b[0m\u001b[1;33m]\u001b[0m\u001b[1;33m,\u001b[0m \u001b[1;33m[\u001b[0m\u001b[1;34m\"2019.01.01 D\"\u001b[0m\u001b[1;33m,\u001b[0m \u001b[1;34m\"2019.11.15 Z\"\u001b[0m\u001b[1;33m,\u001b[0m \u001b[1;34m\"2019.08.02 D\"\u001b[0m\u001b[1;33m,\u001b[0m \u001b[1;34m\"2019.07.01 D\"\u001b[0m\u001b[1;33m,\u001b[0m \u001b[1;34m\"2018.12.28 Z\"\u001b[0m\u001b[1;33m]\u001b[0m\u001b[1;33m)\u001b[0m\u001b[1;33m\u001b[0m\u001b[1;33m\u001b[0m\u001b[0m\n\u001b[0m",
      "\u001b[1;32m<ipython-input-112-800957131d31>\u001b[0m in \u001b[0;36msolution\u001b[1;34m(today, terms, privacies)\u001b[0m\n\u001b[0;32m     11\u001b[0m                 \u001b[0mprint\u001b[0m\u001b[1;33m(\u001b[0m\u001b[0mmdate\u001b[0m\u001b[1;33m)\u001b[0m\u001b[1;33m\u001b[0m\u001b[1;33m\u001b[0m\u001b[0m\n\u001b[0;32m     12\u001b[0m                 \u001b[1;32mif\u001b[0m \u001b[1;33m(\u001b[0m\u001b[0mmdate\u001b[0m\u001b[1;33m.\u001b[0m\u001b[0mmonth\u001b[0m \u001b[1;33m+\u001b[0m \u001b[0mint\u001b[0m\u001b[1;33m(\u001b[0m\u001b[0mterm_int\u001b[0m\u001b[1;33m)\u001b[0m \u001b[1;33m>=\u001b[0m \u001b[1;36m12\u001b[0m\u001b[1;33m)\u001b[0m\u001b[1;33m:\u001b[0m\u001b[1;33m\u001b[0m\u001b[1;33m\u001b[0m\u001b[0m\n\u001b[1;32m---> 13\u001b[1;33m                     \u001b[0mmdate2\u001b[0m \u001b[1;33m=\u001b[0m \u001b[0mdatetime\u001b[0m\u001b[1;33m(\u001b[0m\u001b[0mmdate\u001b[0m\u001b[1;33m.\u001b[0m\u001b[0myear\u001b[0m\u001b[1;33m+\u001b[0m\u001b[1;36m1\u001b[0m\u001b[1;33m,\u001b[0m\u001b[0mmdate\u001b[0m\u001b[1;33m.\u001b[0m\u001b[0mmonth\u001b[0m \u001b[1;33m+\u001b[0m \u001b[0mint\u001b[0m\u001b[1;33m(\u001b[0m\u001b[0mterm_int\u001b[0m\u001b[1;33m)\u001b[0m \u001b[1;33m-\u001b[0m \u001b[1;36m12\u001b[0m\u001b[1;33m,\u001b[0m\u001b[0mmdate\u001b[0m\u001b[1;33m.\u001b[0m\u001b[0mday\u001b[0m\u001b[1;33m)\u001b[0m\u001b[1;33m\u001b[0m\u001b[1;33m\u001b[0m\u001b[0m\n\u001b[0m\u001b[0;32m     14\u001b[0m                 \u001b[1;32melse\u001b[0m \u001b[1;33m:\u001b[0m\u001b[1;33m\u001b[0m\u001b[1;33m\u001b[0m\u001b[0m\n\u001b[0;32m     15\u001b[0m                     \u001b[0mmdate2\u001b[0m \u001b[1;33m=\u001b[0m \u001b[0mdatetime\u001b[0m\u001b[1;33m(\u001b[0m\u001b[0mmdate\u001b[0m\u001b[1;33m.\u001b[0m\u001b[0myear\u001b[0m\u001b[1;33m,\u001b[0m\u001b[0mmdate\u001b[0m\u001b[1;33m.\u001b[0m\u001b[0mmonth\u001b[0m \u001b[1;33m+\u001b[0m \u001b[0mint\u001b[0m\u001b[1;33m(\u001b[0m\u001b[0mterm_int\u001b[0m\u001b[1;33m)\u001b[0m\u001b[1;33m,\u001b[0m\u001b[0mmdate\u001b[0m\u001b[1;33m.\u001b[0m\u001b[0mday\u001b[0m\u001b[1;33m)\u001b[0m\u001b[1;33m\u001b[0m\u001b[1;33m\u001b[0m\u001b[0m\n",
      "\u001b[1;31mValueError\u001b[0m: month must be in 1..12"
     ]
    }
   ],
   "source": [
    "solution(\"2020.01.01\", [\"Z 3\", \"D 5\"], [\"2019.01.01 D\", \"2019.11.15 Z\", \"2019.08.02 D\", \"2019.07.01 D\", \"2018.12.28 Z\"])"
   ]
  },
  {
   "cell_type": "code",
   "execution_count": null,
   "id": "b3336fbc",
   "metadata": {},
   "outputs": [],
   "source": []
  },
  {
   "cell_type": "code",
   "execution_count": 111,
   "id": "06671579",
   "metadata": {},
   "outputs": [
    {
     "name": "stdout",
     "output_type": "stream",
     "text": [
      "2021-05-02 00:00:00\n",
      "2021-07-01 00:00:00\n",
      "2022-02-19 00:00:00\n",
      "2022-02-20 00:00:00\n",
      "[1, 3]\n"
     ]
    }
   ],
   "source": [
    "\n",
    "test = []\n",
    "\n",
    "tmdate = datetime.strptime(today, '%Y.%m.%d')\n",
    "\n",
    "for i in range(len(terms)):\n",
    "    term_cha, term_int = terms[i].split(' ')\n",
    "    for j in range(len(privacies)):\n",
    "        if privacies[j][-1]==term_cha :\n",
    "            mdate = datetime.strptime(privacies[j][:10], '%Y.%m.%d')\n",
    "            print(mdate)\n",
    "            if (mdate.month + int(term_int) > 12):\n",
    "                mdate2 = datetime(mdate.year+1,mdate.month + int(term_int) - 12,mdate.day)\n",
    "            else :\n",
    "                mdate2 = datetime(mdate.year,mdate.month + int(term_int),mdate.day)\n",
    "        \n",
    "            if (mdate2-tmdate).total_seconds() <= 0:\n",
    "                test.append(j+1)\n",
    "\n",
    "print(test)     "
   ]
  },
  {
   "cell_type": "markdown",
   "id": "6627cf96",
   "metadata": {},
   "source": [
    "## 답"
   ]
  },
  {
   "cell_type": "code",
   "execution_count": 114,
   "id": "229c4855",
   "metadata": {},
   "outputs": [],
   "source": [
    "def solution(today, terms, privacies):\n",
    "    from datetime import datetime\n",
    "    answer = []\n",
    "    tmdate = datetime.strptime(today, '%Y.%m.%d')\n",
    "\n",
    "    for i in range(len(terms)):\n",
    "        term_cha, term_int = terms[i].split(' ')\n",
    "        for j in range(len(privacies)):\n",
    "            if privacies[j][-1]==term_cha :\n",
    "                mdate = datetime.strptime(privacies[j][:10], '%Y.%m.%d')\n",
    "                print(mdate)\n",
    "                if (mdate.month + int(term_int) > 12):\n",
    "                    mdate2 = datetime(mdate.year+1,mdate.month + int(term_int) - 12,mdate.day)\n",
    "                else :\n",
    "                    mdate2 = datetime(mdate.year,mdate.month + int(term_int),mdate.day)\n",
    "\n",
    "                if (mdate2-tmdate).total_seconds() <= 0:\n",
    "                    answer.append(j+1)\n",
    "\n",
    "    return sorted(answer)"
   ]
  },
  {
   "cell_type": "code",
   "execution_count": 115,
   "id": "3a2af2b4",
   "metadata": {},
   "outputs": [
    {
     "name": "stdout",
     "output_type": "stream",
     "text": [
      "2021-05-02 00:00:00\n",
      "2021-07-01 00:00:00\n",
      "2022-02-19 00:00:00\n",
      "2022-02-20 00:00:00\n"
     ]
    }
   ],
   "source": [
    "for j in range(len(privacies)):\n",
    "    mdate = datetime.strptime(privacies[j][:10], '%Y.%m.%d')\n",
    "    print(mdate)"
   ]
  },
  {
   "cell_type": "code",
   "execution_count": null,
   "id": "b118c664",
   "metadata": {},
   "outputs": [],
   "source": []
  },
  {
   "cell_type": "code",
   "execution_count": null,
   "id": "7acdb2d5",
   "metadata": {},
   "outputs": [],
   "source": []
  },
  {
   "cell_type": "code",
   "execution_count": 101,
   "id": "32cd998f",
   "metadata": {},
   "outputs": [],
   "source": [
    "answer=[1,5,3]"
   ]
  },
  {
   "cell_type": "code",
   "execution_count": 108,
   "id": "4d0a2084",
   "metadata": {},
   "outputs": [
    {
     "data": {
      "text/plain": [
       "[1, 3, 5]"
      ]
     },
     "execution_count": 108,
     "metadata": {},
     "output_type": "execute_result"
    }
   ],
   "source": [
    "t2 = sorted(answer)\n",
    "t2"
   ]
  },
  {
   "cell_type": "code",
   "execution_count": 105,
   "id": "e55e537c",
   "metadata": {},
   "outputs": [],
   "source": [
    "t2"
   ]
  },
  {
   "cell_type": "markdown",
   "id": "9752b683",
   "metadata": {},
   "source": [
    "# -----------------------------------------------"
   ]
  },
  {
   "cell_type": "code",
   "execution_count": null,
   "id": "0376a4fe",
   "metadata": {},
   "outputs": [],
   "source": [
    "숫자로 이루어진 문자열 t와 p가 주어질 때, \n",
    "t에서 p와 길이가 같은 부분문자열 중에서, \n",
    "이 부분문자열이 나타내는 수가 p가 나타내는 수보다 작거나 같은 것이 나오는 횟수를 return하는 \n",
    "함수 solution을 완성하세요.\n",
    "\n",
    "예를 들어, t=\"3141592\"이고 p=\"271\" 인 경우,\n",
    "t의 길이가 3인 부분 문자열은 314, 141, 415, 159, 592입니다. \n",
    "이 문자열이 나타내는 수 중 271보다 작거나 같은 수는 141, 159 2개 입니다."
   ]
  },
  {
   "cell_type": "code",
   "execution_count": 3,
   "id": "d9df4337",
   "metadata": {},
   "outputs": [],
   "source": [
    "t=\"3141592\"\n",
    "p=\"271\""
   ]
  },
  {
   "cell_type": "code",
   "execution_count": 9,
   "id": "9ba1e966",
   "metadata": {},
   "outputs": [
    {
     "name": "stdout",
     "output_type": "stream",
     "text": [
      "314\n",
      "141\n",
      "415\n",
      "159\n",
      "592\n",
      "[0, 1, 0, 1, 0]\n"
     ]
    },
    {
     "data": {
      "text/plain": [
       "2"
      ]
     },
     "execution_count": 9,
     "metadata": {},
     "output_type": "execute_result"
    }
   ],
   "source": [
    "t_list1 = []\n",
    "for i in range(len(t) - len(p) + 1):\n",
    "    t1 = t[i:i+len(p)]\n",
    "    t2 = int(t1)\n",
    "    print(t2)\n",
    "    if t2 <= int(p):\n",
    "        t_list1.append(1)\n",
    "    else :\n",
    "        t_list1.append(0)\n",
    "        \n",
    "print(t_list1)\n",
    "sum(t_list1)"
   ]
  },
  {
   "cell_type": "code",
   "execution_count": null,
   "id": "8a7a4918",
   "metadata": {},
   "outputs": [],
   "source": [
    "def solution(t, p):\n",
    "    t_list1 = []\n",
    "    for i in range(len(t) - len(p) + 1):\n",
    "        t1 = t[i:i+len(p)]\n",
    "        t2 = int(t1)\n",
    "        print(t2)\n",
    "        if t2 <= int(p):\n",
    "            t_list1.append(1)\n",
    "        else :\n",
    "            t_list1.append(0)\n",
    "    answer = sum(t_list)\n",
    "    return answer\n",
    "\n",
    "p=\"271\" \n",
    "len(p) = 3 \n",
    "\n",
    "for i in range(len(t) - len(p) + 1):\n",
    "    t1 = t[i:i+len(p)]\n",
    "    print(t1)\n"
   ]
  },
  {
   "cell_type": "code",
   "execution_count": 2,
   "id": "7373da2d",
   "metadata": {},
   "outputs": [
    {
     "name": "stdout",
     "output_type": "stream",
     "text": [
      "Collecting pandasNote: you may need to restart the kernel to use updated packages.\n",
      "\n",
      "  Using cached pandas-1.5.2-cp39-cp39-win_amd64.whl (10.9 MB)\n",
      "Collecting numpy\n",
      "  Downloading numpy-1.24.1-cp39-cp39-win_amd64.whl (14.9 MB)\n",
      "     ---------------------------------------- 14.9/14.9 MB 1.9 MB/s eta 0:00:00\n",
      "Collecting pytz>=2020.1\n",
      "  Downloading pytz-2022.7-py2.py3-none-any.whl (499 kB)\n",
      "     -------------------------------------- 499.4/499.4 kB 2.6 MB/s eta 0:00:00\n",
      "Requirement already satisfied: python-dateutil>=2.8.1 in c:\\users\\kunwook\\anaconda3\\envs\\study\\lib\\site-packages (from pandas) (2.8.2)\n",
      "Requirement already satisfied: six>=1.5 in c:\\users\\kunwook\\anaconda3\\envs\\study\\lib\\site-packages (from python-dateutil>=2.8.1->pandas) (1.16.0)\n",
      "Installing collected packages: pytz, numpy, pandas\n",
      "Successfully installed numpy-1.24.1 pandas-1.5.2 pytz-2022.7\n"
     ]
    }
   ],
   "source": [
    "pip install pandas numpy"
   ]
  },
  {
   "cell_type": "code",
   "execution_count": 3,
   "id": "62b90e41",
   "metadata": {},
   "outputs": [],
   "source": [
    "import pandas as pd\n",
    "import numpy as np"
   ]
  },
  {
   "cell_type": "code",
   "execution_count": 4,
   "id": "7e938f73",
   "metadata": {},
   "outputs": [],
   "source": [
    "DF = pd.read_csv('C:/Users/KUNWOOK/Desktop/티스토리/AFSNT_DLY.csv',encoding='cp949')\n",
    "# AFSNT_DLY"
   ]
  },
  {
   "cell_type": "code",
   "execution_count": 5,
   "id": "02850407",
   "metadata": {},
   "outputs": [
    {
     "name": "stdout",
     "output_type": "stream",
     "text": [
      "<class 'pandas.core.frame.DataFrame'>\n",
      "RangeIndex: 16076 entries, 0 to 16075\n",
      "Data columns (total 11 columns):\n",
      " #   Column  Non-Null Count  Dtype \n",
      "---  ------  --------------  ----- \n",
      " 0   SDT_YY  16076 non-null  int64 \n",
      " 1   SDT_MM  16076 non-null  int64 \n",
      " 2   SDT_DD  16076 non-null  int64 \n",
      " 3   SDT_DY  16076 non-null  object\n",
      " 4   ARP     16076 non-null  object\n",
      " 5   ODP     16076 non-null  object\n",
      " 6   FLO     16076 non-null  object\n",
      " 7   FLT     16076 non-null  object\n",
      " 8   AOD     16076 non-null  object\n",
      " 9   STT     16076 non-null  object\n",
      " 10  DLY     16076 non-null  int64 \n",
      "dtypes: int64(4), object(7)\n",
      "memory usage: 1.3+ MB\n"
     ]
    }
   ],
   "source": [
    "DF.info()"
   ]
  },
  {
   "cell_type": "code",
   "execution_count": 11,
   "id": "97bf60b5",
   "metadata": {},
   "outputs": [],
   "source": [
    "DF = pd.concat([DF,DF,DF,DF,DF,DF,DF,DF,DF,DF,DF,DF,DF,DF,DF,DF,DF,DF,DF,DF,DF,DF,DF,DF,DF,DF])"
   ]
  },
  {
   "cell_type": "code",
   "execution_count": 12,
   "id": "8f4fc4bf",
   "metadata": {},
   "outputs": [
    {
     "name": "stdout",
     "output_type": "stream",
     "text": [
      "<class 'pandas.core.frame.DataFrame'>\n",
      "Int64Index: 417976 entries, 0 to 16075\n",
      "Data columns (total 11 columns):\n",
      " #   Column  Non-Null Count   Dtype \n",
      "---  ------  --------------   ----- \n",
      " 0   SDT_YY  417976 non-null  int64 \n",
      " 1   SDT_MM  417976 non-null  int64 \n",
      " 2   SDT_DD  417976 non-null  int64 \n",
      " 3   SDT_DY  417976 non-null  object\n",
      " 4   ARP     417976 non-null  object\n",
      " 5   ODP     417976 non-null  object\n",
      " 6   FLO     417976 non-null  object\n",
      " 7   FLT     417976 non-null  object\n",
      " 8   AOD     417976 non-null  object\n",
      " 9   STT     417976 non-null  object\n",
      " 10  DLY     417976 non-null  int64 \n",
      "dtypes: int64(4), object(7)\n",
      "memory usage: 38.3+ MB\n"
     ]
    }
   ],
   "source": [
    "DF.info()"
   ]
  },
  {
   "cell_type": "code",
   "execution_count": 24,
   "id": "8961d33a",
   "metadata": {},
   "outputs": [],
   "source": [
    "DF1 = pd.concat([DF,DF,DF,DF]).reset_index()"
   ]
  },
  {
   "cell_type": "code",
   "execution_count": 26,
   "id": "5d7fcb79",
   "metadata": {},
   "outputs": [],
   "source": [
    "DF = DF1"
   ]
  },
  {
   "cell_type": "code",
   "execution_count": 27,
   "id": "0429e254",
   "metadata": {},
   "outputs": [
    {
     "name": "stdout",
     "output_type": "stream",
     "text": [
      "<class 'pandas.core.frame.DataFrame'>\n",
      "RangeIndex: 1671904 entries, 0 to 1671903\n",
      "Data columns (total 12 columns):\n",
      " #   Column  Non-Null Count    Dtype \n",
      "---  ------  --------------    ----- \n",
      " 0   index   1671904 non-null  int64 \n",
      " 1   SDT_YY  1671904 non-null  int64 \n",
      " 2   SDT_MM  1671904 non-null  int64 \n",
      " 3   SDT_DD  1671904 non-null  int64 \n",
      " 4   SDT_DY  1671904 non-null  object\n",
      " 5   ARP     1671904 non-null  object\n",
      " 6   ODP     1671904 non-null  object\n",
      " 7   FLO     1671904 non-null  object\n",
      " 8   FLT     1671904 non-null  object\n",
      " 9   AOD     1671904 non-null  object\n",
      " 10  STT     1671904 non-null  object\n",
      " 11  DLY     1671904 non-null  int64 \n",
      "dtypes: int64(5), object(7)\n",
      "memory usage: 153.1+ MB\n"
     ]
    }
   ],
   "source": [
    "DF.info()"
   ]
  },
  {
   "cell_type": "code",
   "execution_count": 31,
   "id": "8954c1b8",
   "metadata": {},
   "outputs": [],
   "source": [
    "DF2 = DF.iloc[:,:6]"
   ]
  },
  {
   "cell_type": "code",
   "execution_count": 32,
   "id": "71b8816a",
   "metadata": {},
   "outputs": [
    {
     "name": "stdout",
     "output_type": "stream",
     "text": [
      "<class 'pandas.core.frame.DataFrame'>\n",
      "RangeIndex: 1671904 entries, 0 to 1671903\n",
      "Data columns (total 6 columns):\n",
      " #   Column  Non-Null Count    Dtype \n",
      "---  ------  --------------    ----- \n",
      " 0   index   1671904 non-null  int64 \n",
      " 1   SDT_YY  1671904 non-null  int64 \n",
      " 2   SDT_MM  1671904 non-null  int64 \n",
      " 3   SDT_DD  1671904 non-null  int64 \n",
      " 4   SDT_DY  1671904 non-null  object\n",
      " 5   ARP     1671904 non-null  object\n",
      "dtypes: int64(4), object(2)\n",
      "memory usage: 76.5+ MB\n"
     ]
    }
   ],
   "source": [
    "DF2.info()"
   ]
  },
  {
   "cell_type": "code",
   "execution_count": 33,
   "id": "153a4187",
   "metadata": {},
   "outputs": [],
   "source": [
    "DF4 = DF.copy()"
   ]
  },
  {
   "cell_type": "code",
   "execution_count": 35,
   "id": "049340b5",
   "metadata": {},
   "outputs": [],
   "source": [
    "DF4['SDT_YY'] = DF4['SDT_YY'].astype('int8')\n",
    "DF4['SDT_MM'] = DF4['SDT_MM'].astype('int8')\n",
    "DF4['SDT_DD'] = DF4['SDT_DD'].astype('int8')\n"
   ]
  },
  {
   "cell_type": "code",
   "execution_count": 36,
   "id": "27c9f978",
   "metadata": {},
   "outputs": [
    {
     "name": "stdout",
     "output_type": "stream",
     "text": [
      "<class 'pandas.core.frame.DataFrame'>\n",
      "RangeIndex: 1671904 entries, 0 to 1671903\n",
      "Data columns (total 12 columns):\n",
      " #   Column  Non-Null Count    Dtype \n",
      "---  ------  --------------    ----- \n",
      " 0   index   1671904 non-null  int64 \n",
      " 1   SDT_YY  1671904 non-null  int8  \n",
      " 2   SDT_MM  1671904 non-null  int8  \n",
      " 3   SDT_DD  1671904 non-null  int8  \n",
      " 4   SDT_DY  1671904 non-null  object\n",
      " 5   ARP     1671904 non-null  object\n",
      " 6   ODP     1671904 non-null  object\n",
      " 7   FLO     1671904 non-null  object\n",
      " 8   FLT     1671904 non-null  object\n",
      " 9   AOD     1671904 non-null  object\n",
      " 10  STT     1671904 non-null  object\n",
      " 11  DLY     1671904 non-null  int64 \n",
      "dtypes: int64(2), int8(3), object(7)\n",
      "memory usage: 119.6+ MB\n"
     ]
    }
   ],
   "source": [
    "DF4.info()"
   ]
  },
  {
   "cell_type": "code",
   "execution_count": 37,
   "id": "288f01a3",
   "metadata": {},
   "outputs": [
    {
     "data": {
      "text/plain": [
       "Index          128\n",
       "index     13375232\n",
       "SDT_YY     1671904\n",
       "SDT_MM     1671904\n",
       "SDT_DD     1671904\n",
       "SDT_DY    13375232\n",
       "ARP       13375232\n",
       "ODP       13375232\n",
       "FLO       13375232\n",
       "FLT       13375232\n",
       "AOD       13375232\n",
       "STT       13375232\n",
       "DLY       13375232\n",
       "dtype: int64"
      ]
     },
     "execution_count": 37,
     "metadata": {},
     "output_type": "execute_result"
    }
   ],
   "source": [
    "DF4.memory_usage()"
   ]
  },
  {
   "cell_type": "code",
   "execution_count": 28,
   "id": "b2e477ee",
   "metadata": {},
   "outputs": [
    {
     "data": {
      "text/plain": [
       "Index          128\n",
       "index     13375232\n",
       "SDT_YY    13375232\n",
       "SDT_MM    13375232\n",
       "SDT_DD    13375232\n",
       "SDT_DY    13375232\n",
       "ARP       13375232\n",
       "ODP       13375232\n",
       "FLO       13375232\n",
       "FLT       13375232\n",
       "AOD       13375232\n",
       "STT       13375232\n",
       "DLY       13375232\n",
       "dtype: int64"
      ]
     },
     "execution_count": 28,
     "metadata": {},
     "output_type": "execute_result"
    }
   ],
   "source": [
    "DF.memory_usage()"
   ]
  },
  {
   "cell_type": "code",
   "execution_count": 131,
   "id": "1225c73b",
   "metadata": {},
   "outputs": [],
   "source": [
    "def solution(A):\n",
    "    print(A-543)"
   ]
  },
  {
   "cell_type": "code",
   "execution_count": 133,
   "id": "3fab0eb5",
   "metadata": {},
   "outputs": [
    {
     "name": "stdout",
     "output_type": "stream",
     "text": [
      "1998\n"
     ]
    }
   ],
   "source": [
    "solution(2541)"
   ]
  },
  {
   "cell_type": "code",
   "execution_count": 139,
   "id": "e1090e86",
   "metadata": {},
   "outputs": [],
   "source": [
    "원래 = \"1 1 2 2 2 8\"\n",
    "입력 = \"0 1 2 2 2 7\""
   ]
  },
  {
   "cell_type": "code",
   "execution_count": 148,
   "id": "8de9e8a7",
   "metadata": {},
   "outputs": [],
   "source": [
    "def test():\n",
    "    원래 = \"1 1 2 2 2 8\"\n",
    "    입력 = input(str())\n",
    "    for i in range(6):\n",
    "        print(int(원래[2*i])-int(입력[2*i]))"
   ]
  },
  {
   "cell_type": "code",
   "execution_count": 149,
   "id": "da37e4c6",
   "metadata": {},
   "outputs": [
    {
     "name": "stdout",
     "output_type": "stream",
     "text": [
      "2 1 2 1 2 1\n",
      "-1\n",
      "0\n",
      "0\n",
      "1\n",
      "0\n",
      "7\n"
     ]
    }
   ],
   "source": [
    "test()"
   ]
  },
  {
   "cell_type": "code",
   "execution_count": null,
   "id": "ee92a4c4",
   "metadata": {},
   "outputs": [],
   "source": []
  }
 ],
 "metadata": {
  "kernelspec": {
   "display_name": "Python 3",
   "language": "python",
   "name": "python3"
  },
  "language_info": {
   "codemirror_mode": {
    "name": "ipython",
    "version": 3
   },
   "file_extension": ".py",
   "mimetype": "text/x-python",
   "name": "python",
   "nbconvert_exporter": "python",
   "pygments_lexer": "ipython3",
   "version": "3.8.8"
  }
 },
 "nbformat": 4,
 "nbformat_minor": 5
}
